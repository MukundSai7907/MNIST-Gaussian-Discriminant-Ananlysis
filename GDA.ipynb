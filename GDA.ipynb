{
  "cells": [
    {
      "cell_type": "code",
      "execution_count": null,
      "id": "7d62fc4f",
      "metadata": {
        "id": "7d62fc4f"
      },
      "outputs": [],
      "source": [
        "import numpy as np\n",
        "import torch\n",
        "from torchvision import datasets\n",
        "import sklearn.metrics as sm\n",
        "import matplotlib.pyplot as plt\n",
        "import tensorflow as tf\n",
        "import math"
      ]
    },
    {
      "cell_type": "code",
      "execution_count": null,
      "id": "8a763927",
      "metadata": {
        "id": "8a763927"
      },
      "outputs": [],
      "source": [
        "class GDAClf:\n",
        "    def __init__(self):\n",
        "        (self.x_train, self.y_train), (self.x_test, self.y_test) = tf.keras.datasets.mnist.load_data()\n",
        "        self.mu = np.zeros((10,784,1))\n",
        "        self.sigma = np.zeros((10,784,784))\n",
        "        self.sigmainv = np.zeros_like(self.sigma)\n",
        "        self.logdets = np.zeros((10))\n",
        "        self.lamda = 1\n",
        "        self.compile()\n",
        "   \n",
        "    def init_lamda(self , lamda=1):\n",
        "        self.lamda = lamda\n",
        "        self.compile()\n",
        "\n",
        "\n",
        "    def compile(self):\n",
        "        for i in range(10):\n",
        "            temp_x_train = self.x_train[self.y_train == i,:].reshape(-1,784)\n",
        " \n",
        "            temp_mu = np.mean(temp_x_train , axis = 0).reshape(784,1)\n",
        "            temp_cov = np.cov(temp_x_train.T).reshape(784,784)\n",
        "\n",
        "            self.mu[i] = temp_mu\n",
        "\n",
        "            self.sigma[i] = temp_cov + self.lamda*np.eye(784)\n",
        "\n",
        "            self.sigmainv[i] = np.linalg.inv(self.sigma[i])\n",
        "            sign , det = np.linalg.slogdet(self.sigma[i])\n",
        "            self.logdets[i] = sign * det\n",
        "\n",
        "    def display_means(self):\n",
        "        for i in range(10):\n",
        "            plt.subplot(10,1,i+1)\n",
        "            plt.imshow(self.mu[i].reshape(28,28))\n",
        "    \n",
        "    def plot_lamda_curve(self):\n",
        "        lamdas = np.linspace(100000 , 0.001 , 5)\n",
        "        acc = []\n",
        "        for lamda in lamdas:\n",
        "            self.init_lamda(lamda)\n",
        "            acc.append(self.predict())\n",
        "        plt.plot(lamdas , acc)\n",
        "        plt.xlabel('Lambda')\n",
        "        plt.ylabel('Accuracy')\n",
        "        return lamdas , acc\n",
        "\n",
        "    def predict(self):\n",
        "        predictions = []\n",
        "        for x in self.x_test:\n",
        "            temp_LL = []\n",
        "            x_vec = x.reshape(784,1)\n",
        "            for j in range(10):\n",
        "                temp_LL.append(compute_LL(x_vec,self.mu[j],self.sigmainv[j],self.sigma[j] , self.logdets[j]))\n",
        "            predictions.append(np.argmax(temp_LL))\n",
        "        return sm.accuracy_score(self.y_test , predictions)\n",
        "\n",
        "def compute_LL(x_vec , mu , sigmainv , sigma, logdet):\n",
        "    t1 = -( 0.5 * logdet + (784/2) * np.log(2*math.pi) )\n",
        "    t2 = -0.5 * (x_vec-mu).T @ sigmainv @ (x_vec-mu)\n",
        "    LL = t1+t2\n",
        "    return LL\n"
      ]
    },
    {
      "cell_type": "code",
      "execution_count": null,
      "id": "91f924c9",
      "metadata": {
        "colab": {
          "base_uri": "https://localhost:8080/",
          "height": 0
        },
        "id": "91f924c9",
        "outputId": "ee2f5bb7-b560-44b3-aae6-8d3c4395c955"
      },
      "outputs": [],
      "source": [
        "a = GDAClf()"
      ]
    },
    {
      "cell_type": "code",
      "execution_count": null,
      "id": "F5hzu2x2VC4Y",
      "metadata": {
        "colab": {
          "base_uri": "https://localhost:8080/",
          "height": 269
        },
        "id": "F5hzu2x2VC4Y",
        "outputId": "51d177ef-f06a-4555-ba6b-ed1a380f38f0"
      },
      "outputs": [],
      "source": [
        "a.display_means()"
      ]
    },
    {
      "cell_type": "code",
      "execution_count": null,
      "id": "6yRgOhFRWXaL",
      "metadata": {
        "colab": {
          "base_uri": "https://localhost:8080/",
          "height": 0
        },
        "id": "6yRgOhFRWXaL",
        "outputId": "d45229ad-0569-4387-c2f0-a501cf529bd2"
      },
      "outputs": [],
      "source": [
        "\n",
        "Acc = a.predict()\n",
        "print(f'The error rate with lamda = 1 is {1-Acc}')"
      ]
    },
    {
      "cell_type": "code",
      "execution_count": null,
      "id": "P7ohNK2SFOJK",
      "metadata": {
        "colab": {
          "base_uri": "https://localhost:8080/",
          "height": 279
        },
        "id": "P7ohNK2SFOJK",
        "outputId": "a6234960-c697-4187-cfea-6afeea963e47"
      },
      "outputs": [],
      "source": [
        "\n",
        "lamdas , acc = a.plot_lamda_curve()"
      ]
    },
    {
      "cell_type": "code",
      "execution_count": null,
      "id": "GYIXHDHUTs47",
      "metadata": {
        "colab": {
          "base_uri": "https://localhost:8080/",
          "height": 0
        },
        "id": "GYIXHDHUTs47",
        "outputId": "5ff24643-9f40-43e8-e9a3-4ec072db3f9b"
      },
      "outputs": [],
      "source": [
        " \n",
        "print(f'The best error rate is {min(1-np.array(acc))}')"
      ]
    },
    {
      "cell_type": "code",
      "execution_count": null,
      "id": "fUi6Mj1AwxUU",
      "metadata": {
        "colab": {
          "base_uri": "https://localhost:8080/",
          "height": 0
        },
        "id": "fUi6Mj1AwxUU",
        "outputId": "d67efb8c-2590-462c-c8f1-1a133a3ec0da"
      },
      "outputs": [],
      "source": [
        "\n",
        "print(f'The best lambda value is {lamdas[np.argmax(acc)]}')"
      ]
    }
  ],
  "metadata": {
    "colab": {
      "collapsed_sections": [],
      "name": "HW9_Q2.ipynb",
      "provenance": []
    },
    "kernelspec": {
      "display_name": "Python 3",
      "language": "python",
      "name": "python3"
    },
    "language_info": {
      "codemirror_mode": {
        "name": "ipython",
        "version": 3
      },
      "file_extension": ".py",
      "mimetype": "text/x-python",
      "name": "python",
      "nbconvert_exporter": "python",
      "pygments_lexer": "ipython3",
      "version": "3.8.8"
    }
  },
  "nbformat": 4,
  "nbformat_minor": 5
}
